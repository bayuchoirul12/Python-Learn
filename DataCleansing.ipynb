{
  "nbformat": 4,
  "nbformat_minor": 0,
  "metadata": {
    "colab": {
      "name": "DataCleansing.ipynb",
      "provenance": []
    },
    "kernelspec": {
      "name": "python3",
      "display_name": "Python 3"
    }
  },
  "cells": [
    {
      "cell_type": "markdown",
      "metadata": {
        "id": "4xkFTLyD6XB4",
        "colab_type": "text"
      },
      "source": [
        "# **Import Library dan Dataset**"
      ]
    },
    {
      "cell_type": "markdown",
      "metadata": {
        "id": "uPDkcb-N3v2G",
        "colab_type": "text"
      },
      "source": [
        "dataset di-import ke dalam workspace, menampilkan jumlah kolom dan baris dari data set dengan menggunakan (.shape) dan menampilkan 5 baris teratas dengan menggunakan head(5) dan mencari ada berapa nilai customerID yang bersifat unique dengan menggunakan (.unique)"
      ]
    },
    {
      "cell_type": "code",
      "metadata": {
        "id": "2OPTCPYAxs9F",
        "colab_type": "code",
        "colab": {
          "base_uri": "https://localhost:8080/",
          "height": 1000
        },
        "outputId": "4c947033-8430-49df-d2b4-08d8826b5c2b"
      },
      "source": [
        "import pandas as pd                     #import library pandas untuk membaca file excel.csv\n",
        "import matplotlib.pyplot as plt         #membuat box plot\n",
        "import seaborn as sns\n",
        "pd.options.display.max_columns = 50     #dengan ketentuan maksimum data pada colums 50\n",
        "\n",
        "df_load = pd.read_csv('data_telco.csv') #import data/mengambil data\n",
        "\n",
        "print(df_load.shape)                    #menampilkan data\n",
        "print(df_load.head(10))                 #menampikan 10 data teratas\n",
        "print(df_load.customerID.nunique())"
      ],
      "execution_count": null,
      "outputs": [
        {
          "output_type": "stream",
          "text": [
            "(7113, 22)\n",
            "   UpdatedAt   customerID  gender  SeniorCitizen Partner Dependents  tenure  \\\n",
            "0     202006  45759018157  Female              0     Yes         No     1.0   \n",
            "1     202006  45557574145    Male              0      No         No    34.0   \n",
            "2     202006  45366876421    Male              0      No         No     2.0   \n",
            "3     202006  45779536532    Male              0      No         No    45.0   \n",
            "4     202006  45923787906  Female              0      No         No     2.0   \n",
            "5     202006  45930534913  Female              0      No         No     8.0   \n",
            "6     202006  45145219511    Male              0      No        Yes    22.0   \n",
            "7     202006  45671351533  Female              0      No         No    10.0   \n",
            "8     202006  45789265516  Female              0     Yes         No    28.0   \n",
            "9     202006  45638801276    Male              0      No        Yes    62.0   \n",
            "\n",
            "  PhoneService     MultipleLines InternetService OnlineSecurity OnlineBackup  \\\n",
            "0           No  No phone service             DSL             No          Yes   \n",
            "1          Yes                No             DSL            Yes           No   \n",
            "2          Yes                No             DSL            Yes          Yes   \n",
            "3           No  No phone service             DSL            Yes           No   \n",
            "4          Yes                No     Fiber optic             No           No   \n",
            "5          Yes               Yes     Fiber optic             No           No   \n",
            "6          Yes               Yes     Fiber optic             No          Yes   \n",
            "7           No  No phone service             DSL            Yes           No   \n",
            "8          Yes               Yes     Fiber optic             No           No   \n",
            "9          Yes                No             DSL            Yes          Yes   \n",
            "\n",
            "  DeviceProtection TechSupport StreamingTV StreamingMovies        Contract  \\\n",
            "0               No          No          No              No  Month-to-month   \n",
            "1              Yes          No          No              No        One year   \n",
            "2               No          No          No              No  Month-to-month   \n",
            "3              Yes         Yes          No              No        One year   \n",
            "4               No          No          No              No  Month-to-month   \n",
            "5              Yes          No         Yes             Yes  Month-to-month   \n",
            "6               No          No         Yes              No  Month-to-month   \n",
            "7               No          No          No              No  Month-to-month   \n",
            "8              Yes         Yes         Yes             Yes  Month-to-month   \n",
            "9               No          No          No              No        One year   \n",
            "\n",
            "  PaperlessBilling              PaymentMethod  MonthlyCharges  TotalCharges  \\\n",
            "0              Yes           Electronic check           29.85         29.85   \n",
            "1               No               Mailed check           56.95       1889.50   \n",
            "2              Yes               Mailed check           53.85        108.15   \n",
            "3               No  Bank transfer (automatic)           42.30       1840.75   \n",
            "4              Yes           Electronic check           70.70        151.65   \n",
            "5              Yes           Electronic check           99.65        820.50   \n",
            "6              Yes    Credit card (automatic)           89.10       1949.40   \n",
            "7               No               Mailed check           29.75        301.90   \n",
            "8              Yes           Electronic check          104.80       3046.05   \n",
            "9               No  Bank transfer (automatic)           56.15       3487.95   \n",
            "\n",
            "  Churn  \n",
            "0    No  \n",
            "1    No  \n",
            "2   Yes  \n",
            "3    No  \n",
            "4   Yes  \n",
            "5   Yes  \n",
            "6    No  \n",
            "7    No  \n",
            "8   Yes  \n",
            "9    No  \n",
            "7017\n"
          ],
          "name": "stdout"
        }
      ]
    },
    {
      "cell_type": "markdown",
      "metadata": {
        "id": "6L9EohEr6csx",
        "colab_type": "text"
      },
      "source": [
        "# **Memfilter ID Number Pelanggan Format Tertentu**"
      ]
    },
    {
      "cell_type": "markdown",
      "metadata": {
        "id": "M1GbLb3L4TFx",
        "colab_type": "text"
      },
      "source": [
        "Mencari format ID Number (Phone Number) Pelanggan customerID yang benar, dengan kriteria:\n",
        "\n",
        "*   Panjang karakter adalah 11-12\n",
        "*   Terdiri dari Angka Saja, tidak diperbolehkan ada karakter selain angka\n",
        "*   Diawali dengan angka 45 2 digit pertama\n",
        "\n",
        "Mengunakan fungsi count() untuk menghitung banyaknya rows Customer ID,  menggunakan str.match() & regex untuk mencocokan dengan kriteria diatas. gunakan astype() untuk merubah tipe datanya yang semula numeric"
      ]
    },
    {
      "cell_type": "code",
      "metadata": {
        "id": "HlFR4sqB0YJg",
        "colab_type": "code",
        "colab": {}
      },
      "source": [
        "df_load['valid_id'] = df_load['customerID'].astype(str).str.match(r'(45\\d{9,10})')\n",
        "df_load = (df_load[df_load['valid_id'] == True]).drop('valid_id', axis = 1)\n",
        "print('Hasil jumlah ID Customer yang terfilter adalah',df_load['customerID'].count())"
      ],
      "execution_count": null,
      "outputs": []
    },
    {
      "cell_type": "markdown",
      "metadata": {
        "id": "ittlUUqk6iYB",
        "colab_type": "text"
      },
      "source": [
        "# **Memfilter Duplikasi ID Number Pelanggan**"
      ]
    },
    {
      "cell_type": "markdown",
      "metadata": {
        "id": "Gqb872CN42lP",
        "colab_type": "text"
      },
      "source": [
        "Memastikan bahwa tidak ada Id Number pelanggan yang duplikat. Biasanya duplikasi ID number ini tipenya:\n",
        "\n",
        "*   Duplikasi dikarenakan inserting melebihi satu kali dengan nilai yang sama tiap kolomnya\n",
        "*   Duplikasi dikarenakan inserting beda periode pengambilan data\n",
        "\n",
        "Gunakan hasil dari pengolahan di tahap sebelumnya df_load untuk di olah di tahap ini. Gunakan fungsi drop_duplicates() untuk menghapus duplikasi rows, dan gunakan sort_valus() untuk mengecek pengambilan data terakhir\n",
        "\n"
      ]
    },
    {
      "cell_type": "code",
      "metadata": {
        "id": "pue8gfN200hH",
        "colab_type": "code",
        "colab": {
          "base_uri": "https://localhost:8080/",
          "height": 34
        },
        "outputId": "9679ec18-8bf9-48b5-9df4-e936d8e629f5"
      },
      "source": [
        "df_load.drop_duplicates()           # Drop Duplicate Rows\n",
        "df_load = df_load.sort_values('UpdatedAt', ascending=False).drop_duplicates(['customerID']) # Drop duplicate ID sorted by Periode\n",
        "print('Hasil jumlah ID Customer yang sudah dihilangkan duplikasinya (distinct) adalah',df_load['customerID'].count())"
      ],
      "execution_count": null,
      "outputs": [
        {
          "output_type": "stream",
          "text": [
            "Hasil jumlah ID Customer yang sudah dihilangkan duplikasinya (distinct) adalah 7017\n"
          ],
          "name": "stdout"
        }
      ]
    },
    {
      "cell_type": "markdown",
      "metadata": {
        "id": "QARZ_eaf5rJQ",
        "colab_type": "text"
      },
      "source": [
        "# **Mengatasi Missing Values dengan Penghapusan Rows**\n"
      ]
    },
    {
      "cell_type": "markdown",
      "metadata": {
        "id": "ko3oABqv5pJt",
        "colab_type": "text"
      },
      "source": [
        "Selanjutnya kita akan menghapus Rows dari data-data yang tidak terdeteksi apakah dia churn atau tidak. Di asumsikan data modeller hanya mau menerima data yang benar ada flag churn nya atau tidak.\n",
        "\n",
        "Gunakan isnull() digunakan untuk mendeteksi missing values dan dropna() untuk menghapus data yang missing values"
      ]
    },
    {
      "cell_type": "code",
      "metadata": {
        "id": "5zu-SYbY3K0-",
        "colab_type": "code",
        "colab": {
          "base_uri": "https://localhost:8080/",
          "height": 50
        },
        "outputId": "2da544d1-ebdd-4e19-f040-a2a609eb0602"
      },
      "source": [
        "print('Total missing values data dari kolom Churn',df_load['Churn'].isnull().sum())\n",
        "# Dropping all Rows with spesific column (churn)\n",
        "df_load.dropna(subset=['Churn'],inplace=True)\n",
        "print('Total Rows dan kolom Data setelah dihapus data Missing Values adalah',df_load.shape)\t"
      ],
      "execution_count": null,
      "outputs": [
        {
          "output_type": "stream",
          "text": [
            "Total missing values data dari kolom Churn 43\n",
            "Total Rows dan kolom Data setelah dihapus data Missing Values adalah (6974, 22)\n"
          ],
          "name": "stdout"
        }
      ]
    },
    {
      "cell_type": "markdown",
      "metadata": {
        "id": "z0xuWPBq61sz",
        "colab_type": "text"
      },
      "source": [
        "# **Mengatasi Missing Values dengan Pengisian Nilai tertentu**"
      ]
    },
    {
      "cell_type": "markdown",
      "metadata": {
        "id": "xz6SzV7N7PbR",
        "colab_type": "text"
      },
      "source": [
        "Selain dengan mengapus rows dari data, menangani missing values bisa menggunakan nilai tertentu. Diasumsikan data modeller meminta pengisian missing values dengan kriteria berikut:\n",
        "\n",
        "*   Tenure pihak data modeller meminta setiap rows yang memiliki missing values untuk Lama berlangganan di isi dengan 11\n",
        "*   Variable yang bersifat numeric selain Tenure di isi dengan median dari masing-masing variable tersebut\n",
        "\n"
      ]
    },
    {
      "cell_type": "code",
      "metadata": {
        "id": "zJWsRDsq64nP",
        "colab_type": "code",
        "colab": {}
      },
      "source": [
        "print('Status Missing Values :',df_load.isnull().values.any())\n",
        "print('\\nJumlah Missing Values masing-masing kolom, adalah:')\n",
        "print(df_load.isnull().sum().sort_values(ascending=False))\n",
        "\n",
        "# handling missing values Tenure fill with 11\n",
        "df_load['tenure'].fillna(11, inplace=True)\n",
        "\n",
        "# Handling missing values num vars (except Tenure)\n",
        "for col_name in list(['MonthlyCharges','TotalCharges']):\n",
        "    median = df_load[col_name].median()\n",
        "    df_load[col_name].fillna(median, inplace=True)\n",
        "    \n",
        "print('\\nJumlah Missing Values setelah di imputer datanya, adalah:')\n",
        "print(df_load.isnull().sum().sort_values(ascending=False))"
      ],
      "execution_count": null,
      "outputs": []
    },
    {
      "cell_type": "markdown",
      "metadata": {
        "id": "sJj_JgIc7ueb",
        "colab_type": "text"
      },
      "source": [
        "# **Mendeteksi adanya Outlier (Boxplot)**"
      ]
    },
    {
      "cell_type": "markdown",
      "metadata": {
        "id": "-6brw1vx7wan",
        "colab_type": "text"
      },
      "source": [
        "Mendeteksi Pencilan dari suatu Nilai (Outlier) salah satunya bisa melihat plot dari data tersebut menggunakan Box Plot. Boxplot merupakan ringkasan distribusi sampel yang disajikan secara grafis yang bisa menggambarkan bentuk distribusi data (skewness), ukuran tendensi sentral dan ukuran penyebaran (keragaman) data pengamatan.\n",
        "\n",
        " \n",
        "Gunakan package matplotlib & seaborn untuk memvisualisasika data-data yang mau dilihat box plot nya. Fungsi describe() gunakan saat untuk melihat deskripsi datanya"
      ]
    },
    {
      "cell_type": "code",
      "metadata": {
        "id": "2iW9bntc71i4",
        "colab_type": "code",
        "colab": {
          "base_uri": "https://localhost:8080/",
          "height": 464
        },
        "outputId": "84d08413-2ac3-42db-a1fd-49b2b9148652"
      },
      "source": [
        "print('\\nPersebaran data sebelum ditangani Outlier: ')\n",
        "print(df_load[['tenure','MonthlyCharges','TotalCharges']].describe())\n",
        "\n",
        "plt.figure()\n",
        "sns.boxplot(x=df_load['tenure'])\n",
        "plt.show()"
      ],
      "execution_count": null,
      "outputs": [
        {
          "output_type": "stream",
          "text": [
            "\n",
            "Persebaran data sebelum ditangani Outlier: \n",
            "            tenure  MonthlyCharges  TotalCharges\n",
            "count  7014.000000     7087.000000   7098.000000\n",
            "mean     32.749358       67.018985   2306.582650\n",
            "std      25.206376      117.396646   2575.212013\n",
            "min       0.000000        0.000000     19.000000\n",
            "25%       9.000000       36.100000    402.925000\n",
            "50%      30.000000       70.450000   1400.700000\n",
            "75%      56.000000       89.900000   3801.600000\n",
            "max     500.000000     9000.000000  80000.000000\n"
          ],
          "name": "stdout"
        },
        {
          "output_type": "display_data",
          "data": {
            "image/png": "[encoded data removed]",
            "text/plain": [
              "<Figure size 432x288 with 1 Axes>"
            ]
          },
          "metadata": {
            "tags": [],
            "needs_background": "light"
          }
        }
      ]
    },
    {
      "cell_type": "markdown",
      "metadata": {
        "id": "rpCpP5Ns8oNI",
        "colab_type": "text"
      },
      "source": [
        "# **Mengatasi Outlier**"
      ]
    },
    {
      "cell_type": "markdown",
      "metadata": {
        "id": "GecP4Zl38pnR",
        "colab_type": "text"
      },
      "source": [
        "mengetahui variable mana saja yang terdapat pencilan (Outlier), selanjutnya kita akan atasi Outlier dengan menggunakan metode interquartile range (IQR). Untuk detil jelasnya, bisa dilihat di ilustrasi di bawah ini:\n",
        "Gunakan hasil dari pengolahan di tahap sebelumnya df_load untuk di olah di tahap ini. Gunakan fungsi quantile() untuk melihat quantile tertentu, dan gunakan mask() untuk mereplace nilai. Tentukan:\n",
        "\n",
        "*   Nilai Minimum dan Maximum data di tolerir\n",
        "*   Ubah Nilai yg di luar Range Minumum & Maximum ke dalam nilai Minimum dan Maximum\n"
      ]
    },
    {
      "cell_type": "code",
      "metadata": {
        "id": "5APvaSta83YB",
        "colab_type": "code",
        "colab": {}
      },
      "source": [
        "# Handling with IQR\n",
        "Q1 = (df_load[['tenure','MonthlyCharges','TotalCharges']]).quantile(0.25)\n",
        "Q3 = (df_load[['tenure','MonthlyCharges','TotalCharges']]).quantile(0.75)\n",
        "\n",
        "IQR = Q3 - Q1\n",
        "maximum = Q3 + (1.5*IQR)\n",
        "print('Nilai Maximum dari masing-masing Variable adalah: ')\n",
        "print(maximum)\n",
        "minimum = Q1 - (1.5*IQR)\n",
        "print('\\nNilai Minimum dari masing-masing Variable adalah: ')\n",
        "print(minimum)\n",
        "\n",
        "more_than = (df_load > maximum)\n",
        "lower_than = (df_load < minimum)\n",
        "df_load = df_load.mask(more_than, maximum, axis=1)\n",
        "df_load = df_load.mask(lower_than, minimum, axis=1)\n",
        "\n",
        "print('\\nPersebaran data setelah ditangani Outlier: ')\n",
        "print(df_load[['tenure','MonthlyCharges','TotalCharges']].describe())"
      ],
      "execution_count": null,
      "outputs": []
    },
    {
      "cell_type": "markdown",
      "metadata": {
        "id": "l6eiCsWh9Ipu",
        "colab_type": "text"
      },
      "source": [
        "# **Mendeteksi Nilai yang tidak Standar**"
      ]
    },
    {
      "cell_type": "markdown",
      "metadata": {
        "id": "vIaG5L8r9Jyv",
        "colab_type": "text"
      },
      "source": [
        "Mendeteksi apakah ada nilai-nilai dari variable kategorik yang tidak standard. Hal ini biasanya terjadi dikarenakan kesalahan input data. Perbedaan istilah menjadi salah satu faktor yang sering terjadi, untuk itu dibutuhkan standarisasi dari data yang sudah terinput.\n",
        "\n",
        "Gunakan fungsi value_counts() untuk melihat jumlah data unique per variable nya"
      ]
    },
    {
      "cell_type": "code",
      "metadata": {
        "id": "gL5qwhWd9ME3",
        "colab_type": "code",
        "colab": {}
      },
      "source": [
        "for col_name in list(\n",
        "    ['gender','SeniorCitizen','Partner',\n",
        "     'Dependents','PhoneService','MultipleLines',\n",
        "     'InternetService','OnlineSecurity','OnlineBackup'\n",
        "     ,'DeviceProtection','TechSupport','StreamingTV',\n",
        "     'StreamingMovies','Contract','PaperlessBilling','PaymentMethod','Churn']):\n",
        "    print('\\nUnique Values Count \\033[1m' + 'Before Standardized \\033[0m Variable',col_name)\n",
        "    print(df_load[col_name].value_counts())"
      ],
      "execution_count": null,
      "outputs": []
    },
    {
      "cell_type": "markdown",
      "metadata": {
        "id": "j96l-RCf9lsq",
        "colab_type": "text"
      },
      "source": [
        "# **Menstandarisasi Variable Kategorik**"
      ]
    },
    {
      "cell_type": "markdown",
      "metadata": {
        "id": "EjmkEnpg9q7v",
        "colab_type": "text"
      },
      "source": [
        "setelah mengetahui variable mana saja yang ada nilai tidak standar, maka kita standarkan dengan pola terbanyak nya, dengan syarat tanpa mengubah maknanya. Contoh : Iya -> Yes Kemudian liat kembali unique values dari masing-masing variable yang sudah di ubah. Gunakan fungsi replace() untuk menstandarkan nilai"
      ]
    },
    {
      "cell_type": "code",
      "metadata": {
        "id": "czWbkulS9t1W",
        "colab_type": "code",
        "colab": {}
      },
      "source": [
        "df_load = df_load.replace(['Wanita','Laki-Laki','Churn','Iya'],['Female','Male','Yes','Yes'])\n",
        "\n",
        "# Masukkan variable\n",
        "for col_name in list(['gender','Dependents','Churn']):\n",
        "    print('\\nUnique Values Count \\033[1m' + 'After Standardized \\033[0mVariable',col_name)\n",
        "    print(df_load[col_name].value_counts())"
      ],
      "execution_count": null,
      "outputs": []
    }
  ]
}