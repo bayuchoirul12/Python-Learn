{
  "nbformat": 4,
  "nbformat_minor": 0,
  "metadata": {
    "colab": {
      "name": "DataCleansing.ipynb",
      "provenance": [],
      "toc_visible": true
    },
    "kernelspec": {
      "name": "python3",
      "display_name": "Python 3"
    }
  },
  "cells": [
    {
      "cell_type": "markdown",
      "metadata": {
        "id": "4xkFTLyD6XB4",
        "colab_type": "text"
      },
      "source": [
        "# **Import Library dan Dataset**"
      ]
    },
    {
      "cell_type": "markdown",
      "metadata": {
        "id": "uPDkcb-N3v2G",
        "colab_type": "text"
      },
      "source": [
        "dataset di-import ke dalam workspace, menampilkan jumlah kolom dan baris dari data set dengan menggunakan (.shape) dan menampilkan 5 baris teratas dengan menggunakan head(5) dan mencari ada berapa nilai customerID yang bersifat unique dengan menggunakan (.unique)"
      ]
    },
    {
      "cell_type": "code",
      "metadata": {
        "id": "2OPTCPYAxs9F",
        "colab_type": "code",
        "colab": {
          "base_uri": "https://localhost:8080/",
          "height": 1000
        },
        "outputId": "2d028c9a-141a-4c85-de31-c3ac1849171a"
      },
      "source": [
        "import pandas as pd                     #import library pandas untuk membaca file excel.csv\n",
        "import matplotlib.pyplot as plt         #membuat box plot\n",
        "import seaborn as sns\n",
        "pd.options.display.max_columns = 50     #dengan ketentuan maksimum data pada colums 50\n",
        "\n",
        "df_load = pd.read_csv('data_telco.csv') #import data/mengambil data\n",
        "\n",
        "print(df_load.shape)                    #menampilkan data\n",
        "print(df_load.head(10))                 #menampikan 10 data teratas\n",
        "print(df_load.customerID.nunique())"
      ],
      "execution_count": 2,
      "outputs": [
        {
          "output_type": "stream",
          "text": [
            "(7113, 22)\n",
            "   UpdatedAt   customerID  gender  SeniorCitizen Partner Dependents  tenure  \\\n",
            "0     202006  45759018157  Female              0     Yes         No     1.0   \n",
            "1     202006  45557574145    Male              0      No         No    34.0   \n",
            "2     202006  45366876421    Male              0      No         No     2.0   \n",
            "3     202006  45779536532    Male              0      No         No    45.0   \n",
            "4     202006  45923787906  Female              0      No         No     2.0   \n",
            "5     202006  45930534913  Female              0      No         No     8.0   \n",
            "6     202006  45145219511    Male              0      No        Yes    22.0   \n",
            "7     202006  45671351533  Female              0      No         No    10.0   \n",
            "8     202006  45789265516  Female              0     Yes         No    28.0   \n",
            "9     202006  45638801276    Male              0      No        Yes    62.0   \n",
            "\n",
            "  PhoneService     MultipleLines InternetService OnlineSecurity OnlineBackup  \\\n",
            "0           No  No phone service             DSL             No          Yes   \n",
            "1          Yes                No             DSL            Yes           No   \n",
            "2          Yes                No             DSL            Yes          Yes   \n",
            "3           No  No phone service             DSL            Yes           No   \n",
            "4          Yes                No     Fiber optic             No           No   \n",
            "5          Yes               Yes     Fiber optic             No           No   \n",
            "6          Yes               Yes     Fiber optic             No          Yes   \n",
            "7           No  No phone service             DSL            Yes           No   \n",
            "8          Yes               Yes     Fiber optic             No           No   \n",
            "9          Yes                No             DSL            Yes          Yes   \n",
            "\n",
            "  DeviceProtection TechSupport StreamingTV StreamingMovies        Contract  \\\n",
            "0               No          No          No              No  Month-to-month   \n",
            "1              Yes          No          No              No        One year   \n",
            "2               No          No          No              No  Month-to-month   \n",
            "3              Yes         Yes          No              No        One year   \n",
            "4               No          No          No              No  Month-to-month   \n",
            "5              Yes          No         Yes             Yes  Month-to-month   \n",
            "6               No          No         Yes              No  Month-to-month   \n",
            "7               No          No          No              No  Month-to-month   \n",
            "8              Yes         Yes         Yes             Yes  Month-to-month   \n",
            "9               No          No          No              No        One year   \n",
            "\n",
            "  PaperlessBilling              PaymentMethod  MonthlyCharges  TotalCharges  \\\n",
            "0              Yes           Electronic check           29.85         29.85   \n",
            "1               No               Mailed check           56.95       1889.50   \n",
            "2              Yes               Mailed check           53.85        108.15   \n",
            "3               No  Bank transfer (automatic)           42.30       1840.75   \n",
            "4              Yes           Electronic check           70.70        151.65   \n",
            "5              Yes           Electronic check           99.65        820.50   \n",
            "6              Yes    Credit card (automatic)           89.10       1949.40   \n",
            "7               No               Mailed check           29.75        301.90   \n",
            "8              Yes           Electronic check          104.80       3046.05   \n",
            "9               No  Bank transfer (automatic)           56.15       3487.95   \n",
            "\n",
            "  Churn  \n",
            "0    No  \n",
            "1    No  \n",
            "2   Yes  \n",
            "3    No  \n",
            "4   Yes  \n",
            "5   Yes  \n",
            "6    No  \n",
            "7    No  \n",
            "8   Yes  \n",
            "9    No  \n",
            "7017\n"
          ],
          "name": "stdout"
        }
      ]
    },
    {
      "cell_type": "markdown",
      "metadata": {
        "id": "6L9EohEr6csx",
        "colab_type": "text"
      },
      "source": [
        "# **Memfilter ID Number Pelanggan Format Tertentu**"
      ]
    },
    {
      "cell_type": "markdown",
      "metadata": {
        "id": "M1GbLb3L4TFx",
        "colab_type": "text"
      },
      "source": [
        "Mencari format ID Number (Phone Number) Pelanggan customerID yang benar, dengan kriteria:\n",
        "\n",
        "*   Panjang karakter adalah 11-12\n",
        "*   Terdiri dari Angka Saja, tidak diperbolehkan ada karakter selain angka\n",
        "*   Diawali dengan angka 45 2 digit pertama\n",
        "\n",
        "Mengunakan fungsi count() untuk menghitung banyaknya rows Customer ID,  menggunakan str.match() & regex untuk mencocokan dengan kriteria diatas. gunakan astype() untuk merubah tipe datanya yang semula numeric"
      ]
    },
    {
      "cell_type": "code",
      "metadata": {
        "id": "HlFR4sqB0YJg",
        "colab_type": "code",
        "colab": {
          "base_uri": "https://localhost:8080/",
          "height": 34
        },
        "outputId": "4c84e4c8-10e9-4e09-fb21-06314253b40e"
      },
      "source": [
        "df_load['valid_id'] = df_load['customerID'].astype(str).str.match(r'(45\\d{9,10})')\n",
        "df_load = (df_load[df_load['valid_id'] == True]).drop('valid_id', axis = 1)\n",
        "print('Hasil jumlah ID Customer yang terfilter adalah',df_load['customerID'].count())"
      ],
      "execution_count": 3,
      "outputs": [
        {
          "output_type": "stream",
          "text": [
            "Hasil jumlah ID Customer yang terfilter adalah 7006\n"
          ],
          "name": "stdout"
        }
      ]
    },
    {
      "cell_type": "markdown",
      "metadata": {
        "id": "ittlUUqk6iYB",
        "colab_type": "text"
      },
      "source": [
        "# **Memfilter Duplikasi ID Number Pelanggan**"
      ]
    },
    {
      "cell_type": "markdown",
      "metadata": {
        "id": "Gqb872CN42lP",
        "colab_type": "text"
      },
      "source": [
        "Memastikan bahwa tidak ada Id Number pelanggan yang duplikat. Biasanya duplikasi ID number ini tipenya:\n",
        "\n",
        "*   Duplikasi dikarenakan inserting melebihi satu kali dengan nilai yang sama tiap kolomnya\n",
        "*   Duplikasi dikarenakan inserting beda periode pengambilan data\n",
        "\n",
        "Gunakan hasil dari pengolahan di tahap sebelumnya df_load untuk di olah di tahap ini. Gunakan fungsi drop_duplicates() untuk menghapus duplikasi rows, dan gunakan sort_valus() untuk mengecek pengambilan data terakhir\n",
        "\n"
      ]
    },
    {
      "cell_type": "code",
      "metadata": {
        "id": "pue8gfN200hH",
        "colab_type": "code",
        "colab": {
          "base_uri": "https://localhost:8080/",
          "height": 34
        },
        "outputId": "45712ff2-ecb8-44c8-dd78-a926ecdd1063"
      },
      "source": [
        "df_load.drop_duplicates()           # Drop Duplicate Rows\n",
        "df_load = df_load.sort_values('UpdatedAt', ascending=False).drop_duplicates(['customerID']) # Drop duplicate ID sorted by Periode\n",
        "print('Hasil jumlah ID Customer yang sudah dihilangkan duplikasinya (distinct) adalah',df_load['customerID'].count())"
      ],
      "execution_count": 4,
      "outputs": [
        {
          "output_type": "stream",
          "text": [
            "Hasil jumlah ID Customer yang sudah dihilangkan duplikasinya (distinct) adalah 6993\n"
          ],
          "name": "stdout"
        }
      ]
    },
    {
      "cell_type": "markdown",
      "metadata": {
        "id": "QARZ_eaf5rJQ",
        "colab_type": "text"
      },
      "source": [
        "# **Mengatasi Missing Values dengan Penghapusan Rows**\n"
      ]
    },
    {
      "cell_type": "markdown",
      "metadata": {
        "id": "ko3oABqv5pJt",
        "colab_type": "text"
      },
      "source": [
        "Selanjutnya kita akan menghapus Rows dari data-data yang tidak terdeteksi apakah dia churn atau tidak. Di asumsikan data modeller hanya mau menerima data yang benar ada flag churn nya atau tidak.\n",
        "\n",
        "Gunakan isnull() digunakan untuk mendeteksi missing values dan dropna() untuk menghapus data yang missing values"
      ]
    },
    {
      "cell_type": "code",
      "metadata": {
        "id": "5zu-SYbY3K0-",
        "colab_type": "code",
        "colab": {
          "base_uri": "https://localhost:8080/",
          "height": 50
        },
        "outputId": "8e94928d-299a-473a-f9d0-f4333669649d"
      },
      "source": [
        "print('Total missing values data dari kolom Churn',df_load['Churn'].isnull().sum())\n",
        "# Dropping all Rows with spesific column (churn)\n",
        "df_load.dropna(subset=['Churn'],inplace=True)\n",
        "print('Total Rows dan kolom Data setelah dihapus data Missing Values adalah',df_load.shape)\t"
      ],
      "execution_count": 5,
      "outputs": [
        {
          "output_type": "stream",
          "text": [
            "Total missing values data dari kolom Churn 43\n",
            "Total Rows dan kolom Data setelah dihapus data Missing Values adalah (6950, 22)\n"
          ],
          "name": "stdout"
        }
      ]
    },
    {
      "cell_type": "markdown",
      "metadata": {
        "id": "z0xuWPBq61sz",
        "colab_type": "text"
      },
      "source": [
        "# **Mengatasi Missing Values dengan Pengisian Nilai tertentu**"
      ]
    },
    {
      "cell_type": "markdown",
      "metadata": {
        "id": "xz6SzV7N7PbR",
        "colab_type": "text"
      },
      "source": [
        "Selain dengan mengapus rows dari data, menangani missing values bisa menggunakan nilai tertentu. Diasumsikan data modeller meminta pengisian missing values dengan kriteria berikut:\n",
        "\n",
        "*   Tenure pihak data modeller meminta setiap rows yang memiliki missing values untuk Lama berlangganan di isi dengan 11\n",
        "*   Variable yang bersifat numeric selain Tenure di isi dengan median dari masing-masing variable tersebut\n",
        "\n"
      ]
    },
    {
      "cell_type": "code",
      "metadata": {
        "id": "zJWsRDsq64nP",
        "colab_type": "code",
        "colab": {
          "base_uri": "https://localhost:8080/",
          "height": 874
        },
        "outputId": "f850b410-23c3-488f-be92-db1405f0013f"
      },
      "source": [
        "print('Status Missing Values :',df_load.isnull().values.any())\n",
        "print('\\nJumlah Missing Values masing-masing kolom, adalah:')\n",
        "print(df_load.isnull().sum().sort_values(ascending=False))\n",
        "\n",
        "# handling missing values Tenure fill with 11\n",
        "df_load['tenure'].fillna(11, inplace=True)\n",
        "\n",
        "# Handling missing values num vars (except Tenure)\n",
        "for col_name in list(['MonthlyCharges','TotalCharges']):\n",
        "    median = df_load[col_name].median()\n",
        "    df_load[col_name].fillna(median, inplace=True)\n",
        "    \n",
        "print('\\nJumlah Missing Values setelah di imputer datanya, adalah:')\n",
        "print(df_load.isnull().sum().sort_values(ascending=False))"
      ],
      "execution_count": 6,
      "outputs": [
        {
          "output_type": "stream",
          "text": [
            "Status Missing Values : True\n",
            "\n",
            "Jumlah Missing Values masing-masing kolom, adalah:\n",
            "tenure              99\n",
            "MonthlyCharges      26\n",
            "TotalCharges        15\n",
            "Churn                0\n",
            "InternetService      0\n",
            "customerID           0\n",
            "gender               0\n",
            "SeniorCitizen        0\n",
            "Partner              0\n",
            "Dependents           0\n",
            "PhoneService         0\n",
            "MultipleLines        0\n",
            "OnlineSecurity       0\n",
            "OnlineBackup         0\n",
            "DeviceProtection     0\n",
            "TechSupport          0\n",
            "StreamingTV          0\n",
            "StreamingMovies      0\n",
            "Contract             0\n",
            "PaperlessBilling     0\n",
            "PaymentMethod        0\n",
            "UpdatedAt            0\n",
            "dtype: int64\n",
            "\n",
            "Jumlah Missing Values setelah di imputer datanya, adalah:\n",
            "Churn               0\n",
            "TotalCharges        0\n",
            "customerID          0\n",
            "gender              0\n",
            "SeniorCitizen       0\n",
            "Partner             0\n",
            "Dependents          0\n",
            "tenure              0\n",
            "PhoneService        0\n",
            "MultipleLines       0\n",
            "InternetService     0\n",
            "OnlineSecurity      0\n",
            "OnlineBackup        0\n",
            "DeviceProtection    0\n",
            "TechSupport         0\n",
            "StreamingTV         0\n",
            "StreamingMovies     0\n",
            "Contract            0\n",
            "PaperlessBilling    0\n",
            "PaymentMethod       0\n",
            "MonthlyCharges      0\n",
            "UpdatedAt           0\n",
            "dtype: int64\n"
          ],
          "name": "stdout"
        }
      ]
    },
    {
      "cell_type": "markdown",
      "metadata": {
        "id": "sJj_JgIc7ueb",
        "colab_type": "text"
      },
      "source": [
        "# **Mendeteksi adanya Outlier (Boxplot)**"
      ]
    },
    {
      "cell_type": "markdown",
      "metadata": {
        "id": "-6brw1vx7wan",
        "colab_type": "text"
      },
      "source": [
        "Mendeteksi Pencilan dari suatu Nilai (Outlier) salah satunya bisa melihat plot dari data tersebut menggunakan Box Plot. Boxplot merupakan ringkasan distribusi sampel yang disajikan secara grafis yang bisa menggambarkan bentuk distribusi data (skewness), ukuran tendensi sentral dan ukuran penyebaran (keragaman) data pengamatan.\n",
        "\n",
        " \n",
        "Menggunakan package matplotlib & seaborn untuk memvisualisasikan data-data yang mau dilihat box plot nya. Fungsi describe() gunakan saat untuk melihat deskripsi datanya"
      ]
    },
    {
      "cell_type": "code",
      "metadata": {
        "id": "2iW9bntc71i4",
        "colab_type": "code",
        "colab": {
          "base_uri": "https://localhost:8080/",
          "height": 464
        },
        "outputId": "2315814b-c591-478e-85de-3f872f8a8eb5"
      },
      "source": [
        "print('\\nPersebaran data sebelum ditangani Outlier: ')\n",
        "print(df_load[['tenure','MonthlyCharges','TotalCharges']].describe())\n",
        "\n",
        "plt.figure()\n",
        "sns.boxplot(x=df_load['tenure'])\n",
        "plt.show()"
      ],
      "execution_count": 7,
      "outputs": [
        {
          "output_type": "stream",
          "text": [
            "\n",
            "Persebaran data sebelum ditangani Outlier: \n",
            "            tenure  MonthlyCharges  TotalCharges\n",
            "count  6950.000000     6950.000000   6950.000000\n",
            "mean     32.477266       65.783741   2305.083460\n",
            "std      25.188910       50.457871   2578.651143\n",
            "min       0.000000        0.000000     19.000000\n",
            "25%       9.000000       36.462500    406.975000\n",
            "50%      29.000000       70.450000   1400.850000\n",
            "75%      55.000000       89.850000   3799.837500\n",
            "max     500.000000     2311.000000  80000.000000\n"
          ],
          "name": "stdout"
        },
        {
          "output_type": "display_data",
          "data": {
            "image/png": "[encoded data removed]",
            "text/plain": [
              "<Figure size 432x288 with 1 Axes>"
            ]
          },
          "metadata": {
            "tags": [],
            "needs_background": "light"
          }
        }
      ]
    },
    {
      "cell_type": "markdown",
      "metadata": {
        "id": "rpCpP5Ns8oNI",
        "colab_type": "text"
      },
      "source": [
        "# **Mengatasi Outlier**"
      ]
    },
    {
      "cell_type": "markdown",
      "metadata": {
        "id": "GecP4Zl38pnR",
        "colab_type": "text"
      },
      "source": [
        "mengetahui variable mana saja yang terdapat pencilan (Outlier), selanjutnya kita akan atasi Outlier dengan menggunakan metode interquartile range (IQR). Untuk detil jelasnya, bisa dilihat di ilustrasi di bawah ini:\n",
        "Gunakan hasil dari pengolahan di tahap sebelumnya df_load untuk di olah di tahap ini. Gunakan fungsi quantile() untuk melihat quantile tertentu, dan gunakan mask() untuk mereplace nilai. Tentukan:\n",
        "\n",
        "*   Nilai Minimum dan Maximum data di tolerir\n",
        "*   Ubah Nilai yg di luar Range Minumum & Maximum ke dalam nilai Minimum dan Maximum\n"
      ]
    },
    {
      "cell_type": "code",
      "metadata": {
        "id": "5APvaSta83YB",
        "colab_type": "code",
        "colab": {
          "base_uri": "https://localhost:8080/",
          "height": 386
        },
        "outputId": "075ffa7d-821a-48e6-95c5-bc58cd7e331d"
      },
      "source": [
        "# Handling with IQR\n",
        "Q1 = (df_load[['tenure','MonthlyCharges','TotalCharges']]).quantile(0.25)\n",
        "Q3 = (df_load[['tenure','MonthlyCharges','TotalCharges']]).quantile(0.75)\n",
        "\n",
        "IQR = Q3 - Q1\n",
        "maximum = Q3 + (1.5*IQR)\n",
        "print('Nilai Maximum dari masing-masing Variable adalah: ')\n",
        "print(maximum)\n",
        "minimum = Q1 - (1.5*IQR)\n",
        "print('\\nNilai Minimum dari masing-masing Variable adalah: ')\n",
        "print(minimum)\n",
        "\n",
        "more_than = (df_load > maximum)\n",
        "lower_than = (df_load < minimum)\n",
        "df_load = df_load.mask(more_than, maximum, axis=1)\n",
        "df_load = df_load.mask(lower_than, minimum, axis=1)\n",
        "\n",
        "print('\\nPersebaran data setelah ditangani Outlier: ')\n",
        "print(df_load[['tenure','MonthlyCharges','TotalCharges']].describe())"
      ],
      "execution_count": 8,
      "outputs": [
        {
          "output_type": "stream",
          "text": [
            "Nilai Maximum dari masing-masing Variable adalah: \n",
            "tenure             124.00000\n",
            "MonthlyCharges     169.93125\n",
            "TotalCharges      8889.13125\n",
            "dtype: float64\n",
            "\n",
            "Nilai Minimum dari masing-masing Variable adalah: \n",
            "tenure             -60.00000\n",
            "MonthlyCharges     -43.61875\n",
            "TotalCharges     -4682.31875\n",
            "dtype: float64\n",
            "\n",
            "Persebaran data setelah ditangani Outlier: \n",
            "            tenure  MonthlyCharges  TotalCharges\n",
            "count  6950.000000     6950.000000   6950.000000\n",
            "mean     32.423165       64.992201   2286.058750\n",
            "std      24.581073       30.032040   2265.702553\n",
            "min       0.000000        0.000000     19.000000\n",
            "25%       9.000000       36.462500    406.975000\n",
            "50%      29.000000       70.450000   1400.850000\n",
            "75%      55.000000       89.850000   3799.837500\n",
            "max     124.000000      169.931250   8889.131250\n"
          ],
          "name": "stdout"
        }
      ]
    },
    {
      "cell_type": "markdown",
      "metadata": {
        "id": "l6eiCsWh9Ipu",
        "colab_type": "text"
      },
      "source": [
        "# **Mendeteksi Nilai yang tidak Standar**"
      ]
    },
    {
      "cell_type": "markdown",
      "metadata": {
        "id": "vIaG5L8r9Jyv",
        "colab_type": "text"
      },
      "source": [
        "Mendeteksi apakah ada nilai-nilai dari variable kategorik yang tidak standard. Hal ini biasanya terjadi dikarenakan kesalahan input data. Perbedaan istilah menjadi salah satu faktor yang sering terjadi, untuk itu dibutuhkan standarisasi dari data yang sudah terinput.\n",
        "\n",
        "Gunakan fungsi value_counts() untuk melihat jumlah data unique per variable nya"
      ]
    },
    {
      "cell_type": "code",
      "metadata": {
        "id": "gL5qwhWd9ME3",
        "colab_type": "code",
        "colab": {
          "base_uri": "https://localhost:8080/",
          "height": 1000
        },
        "outputId": "bc137dd3-c177-48f1-e411-9e2780f3474b"
      },
      "source": [
        "for col_name in list(\n",
        "    ['gender','SeniorCitizen','Partner',\n",
        "     'Dependents','PhoneService','MultipleLines',\n",
        "     'InternetService','OnlineSecurity','OnlineBackup'\n",
        "     ,'DeviceProtection','TechSupport','StreamingTV',\n",
        "     'StreamingMovies','Contract','PaperlessBilling','PaymentMethod','Churn']):\n",
        "    print('\\nUnique Values Count \\033[1m' + 'Before Standardized \\033[0m Variable',col_name)\n",
        "    print(df_load[col_name].value_counts())"
      ],
      "execution_count": 9,
      "outputs": [
        {
          "output_type": "stream",
          "text": [
            "\n",
            "Unique Values Count \u001b[1mBefore Standardized \u001b[0m Variable gender\n",
            "Male         3499\n",
            "Female       3431\n",
            "Wanita         14\n",
            "Laki-Laki       6\n",
            "Name: gender, dtype: int64\n",
            "\n",
            "Unique Values Count \u001b[1mBefore Standardized \u001b[0m Variable SeniorCitizen\n",
            "0    5822\n",
            "1    1128\n",
            "Name: SeniorCitizen, dtype: int64\n",
            "\n",
            "Unique Values Count \u001b[1mBefore Standardized \u001b[0m Variable Partner\n",
            "No     3591\n",
            "Yes    3359\n",
            "Name: Partner, dtype: int64\n",
            "\n",
            "Unique Values Count \u001b[1mBefore Standardized \u001b[0m Variable Dependents\n",
            "No     4870\n",
            "Yes    2060\n",
            "Iya      20\n",
            "Name: Dependents, dtype: int64\n",
            "\n",
            "Unique Values Count \u001b[1mBefore Standardized \u001b[0m Variable PhoneService\n",
            "Yes    6281\n",
            "No      669\n",
            "Name: PhoneService, dtype: int64\n",
            "\n",
            "Unique Values Count \u001b[1mBefore Standardized \u001b[0m Variable MultipleLines\n",
            "No                  3346\n",
            "Yes                 2935\n",
            "No phone service     669\n",
            "Name: MultipleLines, dtype: int64\n",
            "\n",
            "Unique Values Count \u001b[1mBefore Standardized \u001b[0m Variable InternetService\n",
            "Fiber optic    3057\n",
            "DSL            2388\n",
            "No             1505\n",
            "Name: InternetService, dtype: int64\n",
            "\n",
            "Unique Values Count \u001b[1mBefore Standardized \u001b[0m Variable OnlineSecurity\n",
            "No                     3454\n",
            "Yes                    1991\n",
            "No internet service    1505\n",
            "Name: OnlineSecurity, dtype: int64\n",
            "\n",
            "Unique Values Count \u001b[1mBefore Standardized \u001b[0m Variable OnlineBackup\n",
            "No                     3045\n",
            "Yes                    2400\n",
            "No internet service    1505\n",
            "Name: OnlineBackup, dtype: int64\n",
            "\n",
            "Unique Values Count \u001b[1mBefore Standardized \u001b[0m Variable DeviceProtection\n",
            "No                     3054\n",
            "Yes                    2391\n",
            "No internet service    1505\n",
            "Name: DeviceProtection, dtype: int64\n",
            "\n",
            "Unique Values Count \u001b[1mBefore Standardized \u001b[0m Variable TechSupport\n",
            "No                     3431\n",
            "Yes                    2014\n",
            "No internet service    1505\n",
            "Name: TechSupport, dtype: int64\n",
            "\n",
            "Unique Values Count \u001b[1mBefore Standardized \u001b[0m Variable StreamingTV\n",
            "No                     2774\n",
            "Yes                    2671\n",
            "No internet service    1505\n",
            "Name: StreamingTV, dtype: int64\n",
            "\n",
            "Unique Values Count \u001b[1mBefore Standardized \u001b[0m Variable StreamingMovies\n",
            "No                     2747\n",
            "Yes                    2698\n",
            "No internet service    1505\n",
            "Name: StreamingMovies, dtype: int64\n",
            "\n",
            "Unique Values Count \u001b[1mBefore Standardized \u001b[0m Variable Contract\n",
            "Month-to-month    3823\n",
            "Two year          1670\n",
            "One year          1457\n",
            "Name: Contract, dtype: int64\n",
            "\n",
            "Unique Values Count \u001b[1mBefore Standardized \u001b[0m Variable PaperlessBilling\n",
            "Yes    4114\n",
            "No     2836\n",
            "Name: PaperlessBilling, dtype: int64\n",
            "\n",
            "Unique Values Count \u001b[1mBefore Standardized \u001b[0m Variable PaymentMethod\n",
            "Electronic check             2337\n",
            "Mailed check                 1594\n",
            "Bank transfer (automatic)    1519\n",
            "Credit card (automatic)      1500\n",
            "Name: PaymentMethod, dtype: int64\n",
            "\n",
            "Unique Values Count \u001b[1mBefore Standardized \u001b[0m Variable Churn\n",
            "No       5114\n",
            "Yes      1827\n",
            "Churn       9\n",
            "Name: Churn, dtype: int64\n"
          ],
          "name": "stdout"
        }
      ]
    },
    {
      "cell_type": "markdown",
      "metadata": {
        "id": "j96l-RCf9lsq",
        "colab_type": "text"
      },
      "source": [
        "# **Menstandarisasi Variable Kategorik**"
      ]
    },
    {
      "cell_type": "markdown",
      "metadata": {
        "id": "EjmkEnpg9q7v",
        "colab_type": "text"
      },
      "source": [
        "setelah mengetahui variable mana saja yang ada nilai tidak standar, maka kita standarkan dengan pola terbanyak nya, dengan syarat tanpa mengubah maknanya. Contoh : Iya -> Yes Kemudian liat kembali unique values dari masing-masing variable yang sudah di ubah. Gunakan fungsi replace() untuk menstandarkan nilai"
      ]
    },
    {
      "cell_type": "code",
      "metadata": {
        "id": "czWbkulS9t1W",
        "colab_type": "code",
        "colab": {
          "base_uri": "https://localhost:8080/",
          "height": 269
        },
        "outputId": "a186866b-860a-45c7-a0b3-3217c5fa7ac2"
      },
      "source": [
        "df_load = df_load.replace(['Wanita','Laki-Laki','Churn','Iya'],['Female','Male','Yes','Yes'])\n",
        "\n",
        "# Masukkan variable\n",
        "for col_name in list(['gender','Dependents','Churn']):\n",
        "    print('\\nUnique Values Count \\033[1m' + 'After Standardized \\033[0mVariable',col_name)\n",
        "    print(df_load[col_name].value_counts())"
      ],
      "execution_count": 10,
      "outputs": [
        {
          "output_type": "stream",
          "text": [
            "\n",
            "Unique Values Count \u001b[1mAfter Standardized \u001b[0mVariable gender\n",
            "Male      3505\n",
            "Female    3445\n",
            "Name: gender, dtype: int64\n",
            "\n",
            "Unique Values Count \u001b[1mAfter Standardized \u001b[0mVariable Dependents\n",
            "No     4870\n",
            "Yes    2080\n",
            "Name: Dependents, dtype: int64\n",
            "\n",
            "Unique Values Count \u001b[1mAfter Standardized \u001b[0mVariable Churn\n",
            "No     5114\n",
            "Yes    1836\n",
            "Name: Churn, dtype: int64\n"
          ],
          "name": "stdout"
        }
      ]
    }
  ]
}